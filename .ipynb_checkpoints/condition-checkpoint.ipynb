{
 "cells": [
  {
   "cell_type": "code",
   "execution_count": 1,
   "id": "d03d05d2",
   "metadata": {},
   "outputs": [
    {
     "name": "stdout",
     "output_type": "stream",
     "text": [
      "it's a hot day\n",
      "Drink plenty of water\n",
      "Enjoy your day\n"
     ]
    }
   ],
   "source": [
    "is_hot=True\n",
    "\n",
    "if is_hot:\n",
    "    print(\"it's a hot day\")\n",
    "    print(\"Drink plenty of water\")\n",
    "else:\n",
    "    print(\"it's a cold day\")\n",
    "    print(\"wear warm clothes\")\n",
    "print(\"Enjoy your day\")"
   ]
  },
  {
   "cell_type": "code",
   "execution_count": 2,
   "id": "c2204bed",
   "metadata": {},
   "outputs": [
    {
     "name": "stdout",
     "output_type": "stream",
     "text": [
      "it's a cold day\n",
      "wear warm clothes\n",
      "Enjoy your day\n"
     ]
    }
   ],
   "source": [
    "is_hot=False\n",
    "\n",
    "if is_hot:\n",
    "    print(\"it's a hot day\")\n",
    "    print(\"Drink plenty of water\")\n",
    "else:\n",
    "    print(\"it's a cold day\")\n",
    "    print(\"wear warm clothes\")\n",
    "print(\"Enjoy your day\")"
   ]
  },
  {
   "cell_type": "code",
   "execution_count": 4,
   "id": "9dbb2a51",
   "metadata": {},
   "outputs": [
    {
     "name": "stdout",
     "output_type": "stream",
     "text": [
      "it's a lovely day\n",
      "Enjoy your day\n"
     ]
    }
   ],
   "source": [
    "is_hot=False\n",
    "is_cold=False\n",
    "\n",
    "if is_hot:\n",
    "    print(\"It's a hot day\")\n",
    "    print(\"Drink plenty of water\")\n",
    "elif is_cold:\n",
    "    print(\"it's a cold day\")\n",
    "    print(\"Wear warm clothes\")\n",
    "else:\n",
    "    print(\"it's a lovely day\")\n",
    "print(\"Enjoy your day\")"
   ]
  },
  {
   "cell_type": "code",
   "execution_count": 5,
   "id": "61a32230",
   "metadata": {},
   "outputs": [
    {
     "name": "stdout",
     "output_type": "stream",
     "text": [
      "Down payment: $100000.0\n"
     ]
    }
   ],
   "source": [
    "price=1000000\n",
    "has_good_credit=True\n",
    "\n",
    "if has_good_credit:\n",
    "    down_payment=0.1*price\n",
    "else:\n",
    "    down_payment=0.2*price\n",
    "print(f\"Down payment: ${down_payment}\")"
   ]
  },
  {
   "cell_type": "code",
   "execution_count": 8,
   "id": "a3836bc4",
   "metadata": {},
   "outputs": [],
   "source": [
    "has_good_credit=True\n",
    "has_high_income=False\n",
    "\n",
    "if has_high_income and has_good_credit:\n",
    "    print(\"Eligible for loan\")"
   ]
  },
  {
   "cell_type": "code",
   "execution_count": 9,
   "id": "e44f7e62",
   "metadata": {},
   "outputs": [
    {
     "name": "stdout",
     "output_type": "stream",
     "text": [
      "Eligible for loan\n"
     ]
    }
   ],
   "source": [
    "has_good_credit=True\n",
    "has_high_income=False\n",
    "\n",
    "if has_high_income or has_good_credit:\n",
    "    print(\"Eligible for loan\")"
   ]
  },
  {
   "cell_type": "code",
   "execution_count": 10,
   "id": "d7db503a",
   "metadata": {},
   "outputs": [
    {
     "name": "stdout",
     "output_type": "stream",
     "text": [
      "Eligible for loan\n"
     ]
    }
   ],
   "source": [
    "has_good_credit=True\n",
    "has_criminal_record=False\n",
    "\n",
    "if has_good_credit and not has_criminal_record:\n",
    "    print(\"Eligible for loan\")"
   ]
  },
  {
   "cell_type": "code",
   "execution_count": 11,
   "id": "24609620",
   "metadata": {},
   "outputs": [],
   "source": [
    "has_good_credit=True\n",
    "has_criminal_record=True\n",
    "\n",
    "if has_good_credit and not has_criminal_record:\n",
    "    print(\"Eligible for loan\")"
   ]
  },
  {
   "cell_type": "code",
   "execution_count": 12,
   "id": "d068b834",
   "metadata": {},
   "outputs": [
    {
     "name": "stdout",
     "output_type": "stream",
     "text": [
      "it's a hot day\n"
     ]
    }
   ],
   "source": [
    "temp=35\n",
    "if temp>30:\n",
    "    print(\"it's a hot day\")\n",
    "else:\n",
    "    print(\"it's not a hot day\")"
   ]
  },
  {
   "cell_type": "code",
   "execution_count": 13,
   "id": "197f2bc5",
   "metadata": {},
   "outputs": [
    {
     "name": "stdout",
     "output_type": "stream",
     "text": [
      "it's a hot day\n"
     ]
    }
   ],
   "source": [
    "temp=30\n",
    "if temp>=30:\n",
    "    print(\"it's a hot day\")\n",
    "else:\n",
    "    print(\"it's not a hot day\")"
   ]
  },
  {
   "cell_type": "code",
   "execution_count": 14,
   "id": "0c9e4abf",
   "metadata": {},
   "outputs": [
    {
     "name": "stdout",
     "output_type": "stream",
     "text": [
      "it's not a hot day\n"
     ]
    }
   ],
   "source": [
    "temp=30\n",
    "if temp!=30:\n",
    "    print(\"it's a hot day\")\n",
    "else:\n",
    "    print(\"it's not a hot day\")"
   ]
  },
  {
   "cell_type": "code",
   "execution_count": 15,
   "id": "14291f1c",
   "metadata": {},
   "outputs": [
    {
     "name": "stdout",
     "output_type": "stream",
     "text": [
      "it's a hot day\n"
     ]
    }
   ],
   "source": [
    "temp=30\n",
    "if temp==30:\n",
    "    print(\"it's a hot day\")\n",
    "else:\n",
    "    print(\"it's not a hot day\")"
   ]
  },
  {
   "cell_type": "code",
   "execution_count": 16,
   "id": "c165fe52",
   "metadata": {},
   "outputs": [
    {
     "name": "stdout",
     "output_type": "stream",
     "text": [
      "name looks good!\n"
     ]
    }
   ],
   "source": [
    "name=\"aryan\"\n",
    "\n",
    "if len(name)<3:\n",
    "    print(\"Name must be at least 3 character\")\n",
    "elif len(name)>50:\n",
    "    print(\"Name must be a maximum of 50 char\")\n",
    "else:\n",
    "    print(\"name looks good!\")\n",
    "    "
   ]
  },
  {
   "cell_type": "code",
   "execution_count": 18,
   "id": "5b0db46f",
   "metadata": {},
   "outputs": [
    {
     "name": "stdout",
     "output_type": "stream",
     "text": [
      "Weight: 54\n",
      "(L)bs or (k)g: L\n",
      "You are 24.3 kilos\n"
     ]
    }
   ],
   "source": [
    "weight=int(input('Weight: '))\n",
    "unit=input('(L)bs or (k)g: ')\n",
    "if unit.upper()=='L':\n",
    "    converted=weight*0.45\n",
    "    print(f\"You are {converted} kilos\")\n",
    "else:\n",
    "    converted=weight/0.45\n",
    "    print(f\"You are {converted} pounds\")"
   ]
  },
  {
   "cell_type": "code",
   "execution_count": 19,
   "id": "62bd4aa4",
   "metadata": {},
   "outputs": [
    {
     "name": "stdout",
     "output_type": "stream",
     "text": [
      "1\n",
      "2\n",
      "3\n",
      "4\n",
      "5\n",
      "Done\n"
     ]
    }
   ],
   "source": [
    "i=1\n",
    "while i<=5:\n",
    "    print(i)\n",
    "    i=i+1\n",
    "print(\"Done\")"
   ]
  },
  {
   "cell_type": "code",
   "execution_count": 20,
   "id": "e69e5791",
   "metadata": {},
   "outputs": [
    {
     "name": "stdout",
     "output_type": "stream",
     "text": [
      "*\n",
      "**\n",
      "***\n",
      "****\n",
      "*****\n",
      "Done\n"
     ]
    }
   ],
   "source": [
    "i=1\n",
    "while i<=5:\n",
    "    print('*'*i)\n",
    "    i=i+1\n",
    "print(\"Done\")"
   ]
  },
  {
   "cell_type": "code",
   "execution_count": null,
   "id": "d940cc37",
   "metadata": {},
   "outputs": [],
   "source": []
  }
 ],
 "metadata": {
  "kernelspec": {
   "display_name": "Python 3 (ipykernel)",
   "language": "python",
   "name": "python3"
  },
  "language_info": {
   "codemirror_mode": {
    "name": "ipython",
    "version": 3
   },
   "file_extension": ".py",
   "mimetype": "text/x-python",
   "name": "python",
   "nbconvert_exporter": "python",
   "pygments_lexer": "ipython3",
   "version": "3.9.7"
  }
 },
 "nbformat": 4,
 "nbformat_minor": 5
}
