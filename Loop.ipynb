{
 "cells": [
  {
   "cell_type": "code",
   "execution_count": 1,
   "id": "1a562c3a",
   "metadata": {},
   "outputs": [
    {
     "name": "stdout",
     "output_type": "stream",
     "text": [
      "Mosh\n",
      "John\n",
      "Sarah\n"
     ]
    }
   ],
   "source": [
    "for item in ['Mosh','John','Sarah']:\n",
    "    print(item)"
   ]
  },
  {
   "cell_type": "code",
   "execution_count": 3,
   "id": "18f472e6",
   "metadata": {},
   "outputs": [
    {
     "name": "stdout",
     "output_type": "stream",
     "text": [
      "Mosh\n",
      "aryan\n",
      "avi\n"
     ]
    }
   ],
   "source": [
    "item=['Mosh','aryan','avi']\n",
    "for i in item:\n",
    "    print(i)"
   ]
  },
  {
   "cell_type": "code",
   "execution_count": 4,
   "id": "daac1889",
   "metadata": {},
   "outputs": [
    {
     "name": "stdout",
     "output_type": "stream",
     "text": [
      "0\n",
      "1\n",
      "2\n",
      "3\n",
      "4\n",
      "5\n",
      "6\n",
      "7\n",
      "8\n",
      "9\n"
     ]
    }
   ],
   "source": [
    "for item in range(10):\n",
    "    print(item)"
   ]
  },
  {
   "cell_type": "code",
   "execution_count": 5,
   "id": "b190183c",
   "metadata": {},
   "outputs": [
    {
     "name": "stdout",
     "output_type": "stream",
     "text": [
      "1\n",
      "2\n",
      "3\n",
      "4\n",
      "5\n",
      "6\n",
      "7\n",
      "8\n",
      "9\n",
      "10\n"
     ]
    }
   ],
   "source": [
    "for item in range(1,11):\n",
    "    print(item)"
   ]
  },
  {
   "cell_type": "code",
   "execution_count": 6,
   "id": "0d28ad12",
   "metadata": {},
   "outputs": [
    {
     "name": "stdout",
     "output_type": "stream",
     "text": [
      "1\n",
      "3\n",
      "5\n",
      "7\n",
      "9\n"
     ]
    }
   ],
   "source": [
    "for item in range(1,11,2):\n",
    "    print(item)"
   ]
  },
  {
   "cell_type": "code",
   "execution_count": 7,
   "id": "7f6cb5a6",
   "metadata": {},
   "outputs": [
    {
     "name": "stdout",
     "output_type": "stream",
     "text": [
      "Total : 60\n"
     ]
    }
   ],
   "source": [
    " prices=[10,20,30]\n",
    "    \n",
    "total=0\n",
    "for price in prices:\n",
    "    total+=price\n",
    "print(f\"Total : {total}\")"
   ]
  },
  {
   "cell_type": "code",
   "execution_count": 9,
   "id": "c15cecb0",
   "metadata": {},
   "outputs": [
    {
     "name": "stdout",
     "output_type": "stream",
     "text": [
      "(0,0)\n",
      "(0,1)\n",
      "(0,2)\n",
      "(1,0)\n",
      "(1,1)\n",
      "(1,2)\n",
      "(2,0)\n",
      "(2,1)\n",
      "(2,2)\n",
      "(3,0)\n",
      "(3,1)\n",
      "(3,2)\n"
     ]
    }
   ],
   "source": [
    "for x in range(4):\n",
    "    for y in range(3):\n",
    "        print(f'({x},{y})')"
   ]
  },
  {
   "cell_type": "code",
   "execution_count": 10,
   "id": "8a30f057",
   "metadata": {},
   "outputs": [
    {
     "name": "stdout",
     "output_type": "stream",
     "text": [
      "xxxxx\n",
      "xx\n",
      "xxxxx\n",
      "xx\n",
      "xx\n"
     ]
    }
   ],
   "source": [
    "numbers=[5,2,5,2,2]\n",
    "for x_count in numbers:\n",
    "    output=''\n",
    "    for count in range(x_count):\n",
    "        output+='x'\n",
    "    print(output)"
   ]
  },
  {
   "cell_type": "code",
   "execution_count": 12,
   "id": "cc9dde6b",
   "metadata": {},
   "outputs": [
    {
     "name": "stdout",
     "output_type": "stream",
     "text": [
      "Mary\n"
     ]
    }
   ],
   "source": [
    "names=['John','Bob','Mosh','sarah','Mary']\n",
    "\n",
    "print(names[-1])"
   ]
  },
  {
   "cell_type": "code",
   "execution_count": 13,
   "id": "f7d003c8",
   "metadata": {},
   "outputs": [
    {
     "name": "stdout",
     "output_type": "stream",
     "text": [
      "['Bob', 'Mosh', 'sarah', 'Mary']\n"
     ]
    }
   ],
   "source": [
    "names=['John','Bob','Mosh','sarah','Mary']\n",
    "\n",
    "print(names[1:])"
   ]
  },
  {
   "cell_type": "code",
   "execution_count": 14,
   "id": "7426c12e",
   "metadata": {},
   "outputs": [
    {
     "name": "stdout",
     "output_type": "stream",
     "text": [
      "['Bob', 'Mosh']\n"
     ]
    }
   ],
   "source": [
    "names=['John','Bob','Mosh','sarah','Mary']\n",
    "\n",
    "print(names[1:3])"
   ]
  },
  {
   "cell_type": "code",
   "execution_count": 15,
   "id": "4a757b90",
   "metadata": {},
   "outputs": [
    {
     "name": "stdout",
     "output_type": "stream",
     "text": [
      "['John', 'Bob', 'Mosh', 'sarah', 'Mary']\n"
     ]
    }
   ],
   "source": [
    "names=['John','Bob','Mosh','sarah','Mary']\n",
    "\n",
    "print(names)"
   ]
  },
  {
   "cell_type": "code",
   "execution_count": 18,
   "id": "2e7fe003",
   "metadata": {},
   "outputs": [
    {
     "name": "stdout",
     "output_type": "stream",
     "text": [
      "10\n"
     ]
    }
   ],
   "source": [
    "num=[10,3,6,2,8,4]\n",
    "max=num[0]\n",
    "for i in num:\n",
    "    if i>max:\n",
    "        max=num\n",
    "print(max)"
   ]
  },
  {
   "cell_type": "code",
   "execution_count": 20,
   "id": "79d918cb",
   "metadata": {},
   "outputs": [
    {
     "name": "stdout",
     "output_type": "stream",
     "text": [
      "1\n",
      "2\n",
      "3\n",
      "4\n",
      "5\n",
      "6\n",
      "7\n",
      "8\n",
      "9\n"
     ]
    }
   ],
   "source": [
    "matrix=[[1,2,3],[4,5,6],[7,8,9]]\n",
    "\n",
    "for row in matrix:\n",
    "    for item in row:\n",
    "        print(item)\n",
    "    "
   ]
  },
  {
   "cell_type": "code",
   "execution_count": 21,
   "id": "4afe8363",
   "metadata": {},
   "outputs": [
    {
     "name": "stdout",
     "output_type": "stream",
     "text": [
      "[5, 2, 1, 7, 4, 20]\n"
     ]
    }
   ],
   "source": [
    "numbers=[5,2,1,7,4]\n",
    "numbers.append(20)\n",
    "print(numbers)"
   ]
  },
  {
   "cell_type": "code",
   "execution_count": 22,
   "id": "8dccc961",
   "metadata": {},
   "outputs": [
    {
     "name": "stdout",
     "output_type": "stream",
     "text": [
      "[20, 5, 2, 1, 7, 4]\n"
     ]
    }
   ],
   "source": [
    "numbers=[5,2,1,7,4]\n",
    "numbers.insert(0,20)\n",
    "print(numbers)"
   ]
  },
  {
   "cell_type": "code",
   "execution_count": 23,
   "id": "f3aeaaa3",
   "metadata": {},
   "outputs": [
    {
     "name": "stdout",
     "output_type": "stream",
     "text": [
      "[2, 1, 7, 4]\n"
     ]
    }
   ],
   "source": [
    "numbers=[5,2,1,7,4]\n",
    "numbers.remove(5)\n",
    "print(numbers)"
   ]
  },
  {
   "cell_type": "code",
   "execution_count": 24,
   "id": "a21421e8",
   "metadata": {},
   "outputs": [
    {
     "name": "stdout",
     "output_type": "stream",
     "text": [
      "[]\n"
     ]
    }
   ],
   "source": [
    "numbers=[5,2,1,7,4]\n",
    "numbers.clear()\n",
    "print(numbers)"
   ]
  },
  {
   "cell_type": "code",
   "execution_count": 25,
   "id": "5720aaaa",
   "metadata": {},
   "outputs": [
    {
     "name": "stdout",
     "output_type": "stream",
     "text": [
      "[5, 2, 1, 7]\n"
     ]
    }
   ],
   "source": [
    "numbers=[5,2,1,7,4]\n",
    "numbers.pop()\n",
    "print(numbers)"
   ]
  },
  {
   "cell_type": "code",
   "execution_count": 26,
   "id": "e9b6fcce",
   "metadata": {},
   "outputs": [
    {
     "name": "stdout",
     "output_type": "stream",
     "text": [
      "[]\n"
     ]
    }
   ],
   "source": [
    " numbers=[5,2,1,7,4]\n",
    "numbers.clear()\n",
    "print(numbers)"
   ]
  },
  {
   "cell_type": "code",
   "execution_count": 27,
   "id": "c7d9b17a",
   "metadata": {},
   "outputs": [
    {
     "name": "stdout",
     "output_type": "stream",
     "text": [
      "2\n"
     ]
    }
   ],
   "source": [
    " numbers=[5,2,1,5,7,4]\n",
    "print(numbers.count(5))"
   ]
  },
  {
   "cell_type": "code",
   "execution_count": 28,
   "id": "d3db92c0",
   "metadata": {},
   "outputs": [
    {
     "name": "stdout",
     "output_type": "stream",
     "text": [
      "[1, 2, 4, 5, 5, 7]\n"
     ]
    }
   ],
   "source": [
    "numbers=[5,2,1,5,7,4]\n",
    "numbers.sort()\n",
    "print(numbers)"
   ]
  },
  {
   "cell_type": "code",
   "execution_count": 29,
   "id": "432f7cb5",
   "metadata": {},
   "outputs": [
    {
     "name": "stdout",
     "output_type": "stream",
     "text": [
      "[7, 5, 5, 4, 2, 1]\n"
     ]
    }
   ],
   "source": [
    "numbers=[5,2,1,5,7,4]\n",
    "numbers.sort()\n",
    "numbers.reverse()\n",
    "print(numbers)"
   ]
  },
  {
   "cell_type": "code",
   "execution_count": 30,
   "id": "6295bd2e",
   "metadata": {},
   "outputs": [
    {
     "name": "stdout",
     "output_type": "stream",
     "text": [
      "[5, 2, 1, 5, 7, 4]\n"
     ]
    }
   ],
   "source": [
    "numbers=[5,2,1,5,7,4]\n",
    "numbers2=numbers.copy()\n",
    "print(numbers2)"
   ]
  },
  {
   "cell_type": "code",
   "execution_count": 31,
   "id": "6b61e3bc",
   "metadata": {},
   "outputs": [
    {
     "name": "stdout",
     "output_type": "stream",
     "text": [
      "[2, 4, 6, 3, 1]\n"
     ]
    }
   ],
   "source": [
    "numbers=[2,2,4,6,3,4,6,1]\n",
    "\n",
    "uniques=[]\n",
    "\n",
    "for number in numbers:\n",
    "    if number not in uniques:\n",
    "        uniques.append(number)\n",
    "print(uniques)"
   ]
  },
  {
   "cell_type": "code",
   "execution_count": 33,
   "id": "9a62dce4",
   "metadata": {},
   "outputs": [
    {
     "ename": "TypeError",
     "evalue": "'tuple' object does not support item assignment",
     "output_type": "error",
     "traceback": [
      "\u001b[1;31m---------------------------------------------------------------------------\u001b[0m",
      "\u001b[1;31mTypeError\u001b[0m                                 Traceback (most recent call last)",
      "\u001b[1;32m~\\AppData\\Local\\Temp/ipykernel_8732/3131289.py\u001b[0m in \u001b[0;36m<module>\u001b[1;34m\u001b[0m\n\u001b[0;32m      3\u001b[0m \u001b[0mnumbers\u001b[0m\u001b[1;33m=\u001b[0m\u001b[1;33m(\u001b[0m\u001b[1;36m1\u001b[0m\u001b[1;33m,\u001b[0m\u001b[1;36m2\u001b[0m\u001b[1;33m,\u001b[0m\u001b[1;36m3\u001b[0m\u001b[1;33m)\u001b[0m\u001b[1;33m\u001b[0m\u001b[1;33m\u001b[0m\u001b[0m\n\u001b[0;32m      4\u001b[0m \u001b[1;33m\u001b[0m\u001b[0m\n\u001b[1;32m----> 5\u001b[1;33m \u001b[0mnumbers\u001b[0m\u001b[1;33m[\u001b[0m\u001b[1;36m0\u001b[0m\u001b[1;33m]\u001b[0m\u001b[1;33m=\u001b[0m\u001b[1;36m10\u001b[0m\u001b[1;33m\u001b[0m\u001b[1;33m\u001b[0m\u001b[0m\n\u001b[0m\u001b[0;32m      6\u001b[0m \u001b[1;33m\u001b[0m\u001b[0m\n\u001b[0;32m      7\u001b[0m \u001b[1;31m# it will give error as tuple are immutable\u001b[0m\u001b[1;33m\u001b[0m\u001b[1;33m\u001b[0m\u001b[0m\n",
      "\u001b[1;31mTypeError\u001b[0m: 'tuple' object does not support item assignment"
     ]
    }
   ],
   "source": [
    "# tuple\n",
    "\n",
    "numbers=(1,2,3)\n",
    "\n",
    "numbers[0]=10   \n",
    "\n",
    "# it will give error as tuple are immutable\n",
    "\n",
    "print(numbers[0])"
   ]
  },
  {
   "cell_type": "code",
   "execution_count": 35,
   "id": "b0fcd127",
   "metadata": {},
   "outputs": [
    {
     "name": "stdout",
     "output_type": "stream",
     "text": [
      "John Smith\n"
     ]
    }
   ],
   "source": [
    "# dictionaries\n",
    "\n",
    "coustmer={\"name\":\"John Smith\",\"age\":30,\"is_verified\":True}\n",
    "\n",
    "print(coustmer[\"name\"])\n",
    "\n",
    "# key should be unique"
   ]
  },
  {
   "cell_type": "code",
   "execution_count": 36,
   "id": "f73d4126",
   "metadata": {},
   "outputs": [
    {
     "name": "stdout",
     "output_type": "stream",
     "text": [
      "Aryan basu\n"
     ]
    }
   ],
   "source": [
    "# dictionaries\n",
    "\n",
    "coustmer={\"name\":\"John Smith\",\"age\":30,\"is_verified\":True}\n",
    "\n",
    "coustmer[\"name\"]=\"Aryan basu\"\n",
    "print(coustmer[\"name\"])"
   ]
  },
  {
   "cell_type": "code",
   "execution_count": 37,
   "id": "e33c6feb",
   "metadata": {},
   "outputs": [
    {
     "name": "stdout",
     "output_type": "stream",
     "text": [
      "jan 1 1992\n"
     ]
    }
   ],
   "source": [
    "coustmer={\"name\":\"John Smith\",\"age\":30,\"is_verified\":True}\n",
    "\n",
    "coustmer[\"name\"]=\"Aryan basu\"\n",
    "# if key is not present print defaulr value that is jan 1 1992\n",
    "print(coustmer.get(\"birthdate\",\"jan 1 1992\"))"
   ]
  },
  {
   "cell_type": "code",
   "execution_count": 39,
   "id": "ee1465c7",
   "metadata": {},
   "outputs": [
    {
     "name": "stdout",
     "output_type": "stream",
     "text": [
      "Phone: 1234\n",
      "One Two Three Four \n"
     ]
    }
   ],
   "source": [
    "phone=input(\"Phone: \")\n",
    "\n",
    "digits_mapping={\n",
    "    \"1\":\"One\",\n",
    "    \"2\":\"Two\",\n",
    "    \"3\":\"Three\",\n",
    "    \"4\":\"Four\"\n",
    "}\n",
    "output=\"\" \n",
    "for ch in phone:\n",
    "    output+=digits_mapping.get(ch,\"!\") + \" \"  # here word after comma is to use default value\n",
    "print(output)"
   ]
  },
  {
   "cell_type": "code",
   "execution_count": 41,
   "id": "290b726c",
   "metadata": {},
   "outputs": [
    {
     "name": "stdout",
     "output_type": "stream",
     "text": [
      ">hello :)\n",
      "hello 😄 \n"
     ]
    }
   ],
   "source": [
    "massg=input(\">\")\n",
    "words=massg.split(' ')\n",
    "emojis={\n",
    "    \":)\":\"😄\",\n",
    "    \":(\":\"😌\"\n",
    "}\n",
    "output=\"\"\n",
    "for word in words:\n",
    "    output+=emojis.get(word,word)+\" \"   # here word after comma is to use default value\n",
    "print(output)"
   ]
  },
  {
   "cell_type": "code",
   "execution_count": 42,
   "id": "f8b13e7f",
   "metadata": {},
   "outputs": [
    {
     "name": "stdout",
     "output_type": "stream",
     "text": [
      "start\n",
      "Hi there!\n",
      "Welcome abroad\n",
      "finish\n"
     ]
    }
   ],
   "source": [
    "def greet_user():\n",
    "    print('Hi there!')\n",
    "    print('Welcome abroad')\n",
    "print(\"start\")\n",
    "greet_user()\n",
    "print(\"finish\")\n"
   ]
  },
  {
   "cell_type": "code",
   "execution_count": 43,
   "id": "1f212d23",
   "metadata": {},
   "outputs": [
    {
     "name": "stdout",
     "output_type": "stream",
     "text": [
      "start\n",
      "Hi John!\n",
      "Welcome abroad\n",
      "finish\n"
     ]
    }
   ],
   "source": [
    "def greet_user(name):\n",
    "    print(f'Hi {name}!')\n",
    "    print('Welcome abroad')\n",
    "print(\"start\")\n",
    "greet_user(\"John\")\n",
    "print(\"finish\")\n"
   ]
  },
  {
   "cell_type": "code",
   "execution_count": 45,
   "id": "e592995f",
   "metadata": {},
   "outputs": [
    {
     "name": "stdout",
     "output_type": "stream",
     "text": [
      "start\n",
      "Hi John smith!\n",
      "Welcome abroad\n",
      "finish\n"
     ]
    }
   ],
   "source": [
    "def greet_user(first_name,last_name):\n",
    "    print(f'Hi {first_name} {last_name}!')\n",
    "    print('Welcome abroad')\n",
    "print(\"start\")\n",
    "greet_user(last_name=\"smith\",first_name=\"John\")  # it is a keyword argument here order does not matter \n",
    "print(\"finish\")"
   ]
  },
  {
   "cell_type": "code",
   "execution_count": 46,
   "id": "848c8448",
   "metadata": {},
   "outputs": [
    {
     "name": "stdout",
     "output_type": "stream",
     "text": [
      "9\n",
      "None\n"
     ]
    }
   ],
   "source": [
    "def square(number):\n",
    "    print(number*number)\n",
    "print(square(3))"
   ]
  },
  {
   "cell_type": "code",
   "execution_count": null,
   "id": "cfba341d",
   "metadata": {},
   "outputs": [],
   "source": []
  }
 ],
 "metadata": {
  "kernelspec": {
   "display_name": "Python 3 (ipykernel)",
   "language": "python",
   "name": "python3"
  },
  "language_info": {
   "codemirror_mode": {
    "name": "ipython",
    "version": 3
   },
   "file_extension": ".py",
   "mimetype": "text/x-python",
   "name": "python",
   "nbconvert_exporter": "python",
   "pygments_lexer": "ipython3",
   "version": "3.9.7"
  }
 },
 "nbformat": 4,
 "nbformat_minor": 5
}
