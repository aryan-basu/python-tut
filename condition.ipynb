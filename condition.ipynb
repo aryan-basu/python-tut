{
 "cells": [
  {
   "cell_type": "code",
   "execution_count": 1,
   "id": "c246249f",
   "metadata": {},
   "outputs": [
    {
     "name": "stdout",
     "output_type": "stream",
     "text": [
      "it's a hot day\n",
      "Drink plenty of water\n",
      "Enjoy your day\n"
     ]
    }
   ],
   "source": [
    "is_hot=True\n",
    "\n",
    "if is_hot:\n",
    "    print(\"it's a hot day\")\n",
    "    print(\"Drink plenty of water\")\n",
    "else:\n",
    "    print(\"it's a cold day\")\n",
    "    print(\"wear warm clothes\")\n",
    "print(\"Enjoy your day\")"
   ]
  },
  {
   "cell_type": "code",
   "execution_count": 2,
   "id": "c09d4a30",
   "metadata": {},
   "outputs": [
    {
     "name": "stdout",
     "output_type": "stream",
     "text": [
      "it's a cold day\n",
      "wear warm clothes\n",
      "Enjoy your day\n"
     ]
    }
   ],
   "source": [
    "is_hot=False\n",
    "\n",
    "if is_hot:\n",
    "    print(\"it's a hot day\")\n",
    "    print(\"Drink plenty of water\")\n",
    "else:\n",
    "    print(\"it's a cold day\")\n",
    "    print(\"wear warm clothes\")\n",
    "print(\"Enjoy your day\")"
   ]
  },
  {
   "cell_type": "code",
   "execution_count": 4,
   "id": "42d6d6d2",
   "metadata": {},
   "outputs": [
    {
     "name": "stdout",
     "output_type": "stream",
     "text": [
      "it's a lovely day\n",
      "Enjoy your day\n"
     ]
    }
   ],
   "source": [
    "is_hot=False\n",
    "is_cold=False\n",
    "\n",
    "if is_hot:\n",
    "    print(\"It's a hot day\")\n",
    "    print(\"Drink plenty of water\")\n",
    "elif is_cold:\n",
    "    print(\"it's a cold day\")\n",
    "    print(\"Wear warm clothes\")\n",
    "else:\n",
    "    print(\"it's a lovely day\")\n",
    "print(\"Enjoy your day\")"
   ]
  },
  {
   "cell_type": "code",
   "execution_count": 5,
   "id": "359a597d",
   "metadata": {},
   "outputs": [
    {
     "name": "stdout",
     "output_type": "stream",
     "text": [
      "Down payment: $100000.0\n"
     ]
    }
   ],
   "source": [
    "price=1000000\n",
    "has_good_credit=True\n",
    "\n",
    "if has_good_credit:\n",
    "    down_payment=0.1*price\n",
    "else:\n",
    "    down_payment=0.2*price\n",
    "print(f\"Down payment: ${down_payment}\")"
   ]
  },
  {
   "cell_type": "code",
   "execution_count": 8,
   "id": "358d0bea",
   "metadata": {},
   "outputs": [],
   "source": [
    "has_good_credit=True\n",
    "has_high_income=False\n",
    "\n",
    "if has_high_income and has_good_credit:\n",
    "    print(\"Eligible for loan\")"
   ]
  },
  {
   "cell_type": "code",
   "execution_count": 9,
   "id": "8a0a61cf",
   "metadata": {},
   "outputs": [
    {
     "name": "stdout",
     "output_type": "stream",
     "text": [
      "Eligible for loan\n"
     ]
    }
   ],
   "source": [
    "has_good_credit=True\n",
    "has_high_income=False\n",
    "\n",
    "if has_high_income or has_good_credit:\n",
    "    print(\"Eligible for loan\")"
   ]
  },
  {
   "cell_type": "code",
   "execution_count": 10,
   "id": "42eaad0b",
   "metadata": {},
   "outputs": [
    {
     "name": "stdout",
     "output_type": "stream",
     "text": [
      "Eligible for loan\n"
     ]
    }
   ],
   "source": [
    "has_good_credit=True\n",
    "has_criminal_record=False\n",
    "\n",
    "if has_good_credit and not has_criminal_record:\n",
    "    print(\"Eligible for loan\")"
   ]
  },
  {
   "cell_type": "code",
   "execution_count": 11,
   "id": "c26e6e5c",
   "metadata": {},
   "outputs": [],
   "source": [
    "has_good_credit=True\n",
    "has_criminal_record=True\n",
    "\n",
    "if has_good_credit and not has_criminal_record:\n",
    "    print(\"Eligible for loan\")"
   ]
  },
  {
   "cell_type": "code",
   "execution_count": 12,
   "id": "0d1dfd9b",
   "metadata": {},
   "outputs": [
    {
     "name": "stdout",
     "output_type": "stream",
     "text": [
      "it's a hot day\n"
     ]
    }
   ],
   "source": [
    "temp=35\n",
    "if temp>30:\n",
    "    print(\"it's a hot day\")\n",
    "else:\n",
    "    print(\"it's not a hot day\")"
   ]
  },
  {
   "cell_type": "code",
   "execution_count": 13,
   "id": "eb0ca761",
   "metadata": {},
   "outputs": [
    {
     "name": "stdout",
     "output_type": "stream",
     "text": [
      "it's a hot day\n"
     ]
    }
   ],
   "source": [
    "temp=30\n",
    "if temp>=30:\n",
    "    print(\"it's a hot day\")\n",
    "else:\n",
    "    print(\"it's not a hot day\")"
   ]
  },
  {
   "cell_type": "code",
   "execution_count": 14,
   "id": "bd3943a1",
   "metadata": {},
   "outputs": [
    {
     "name": "stdout",
     "output_type": "stream",
     "text": [
      "it's not a hot day\n"
     ]
    }
   ],
   "source": [
    "temp=30\n",
    "if temp!=30:\n",
    "    print(\"it's a hot day\")\n",
    "else:\n",
    "    print(\"it's not a hot day\")"
   ]
  },
  {
   "cell_type": "code",
   "execution_count": 15,
   "id": "8364030e",
   "metadata": {},
   "outputs": [
    {
     "name": "stdout",
     "output_type": "stream",
     "text": [
      "it's a hot day\n"
     ]
    }
   ],
   "source": [
    "temp=30\n",
    "if temp==30:\n",
    "    print(\"it's a hot day\")\n",
    "else:\n",
    "    print(\"it's not a hot day\")"
   ]
  },
  {
   "cell_type": "code",
   "execution_count": 16,
   "id": "ca01f470",
   "metadata": {},
   "outputs": [
    {
     "name": "stdout",
     "output_type": "stream",
     "text": [
      "name looks good!\n"
     ]
    }
   ],
   "source": [
    "name=\"aryan\"\n",
    "\n",
    "if len(name)<3:\n",
    "    print(\"Name must be at least 3 character\")\n",
    "elif len(name)>50:\n",
    "    print(\"Name must be a maximum of 50 char\")\n",
    "else:\n",
    "    print(\"name looks good!\")\n",
    "    "
   ]
  },
  {
   "cell_type": "code",
   "execution_count": 18,
   "id": "7f3748c8",
   "metadata": {},
   "outputs": [
    {
     "name": "stdout",
     "output_type": "stream",
     "text": [
      "Weight: 54\n",
      "(L)bs or (k)g: L\n",
      "You are 24.3 kilos\n"
     ]
    }
   ],
   "source": [
    "weight=int(input('Weight: '))\n",
    "unit=input('(L)bs or (k)g: ')\n",
    "if unit.upper()=='L':\n",
    "    converted=weight*0.45\n",
    "    print(f\"You are {converted} kilos\")\n",
    "else:\n",
    "    converted=weight/0.45\n",
    "    print(f\"You are {converted} pounds\")"
   ]
  },
  {
   "cell_type": "code",
   "execution_count": 19,
   "id": "7d62ceb4",
   "metadata": {},
   "outputs": [
    {
     "name": "stdout",
     "output_type": "stream",
     "text": [
      "1\n",
      "2\n",
      "3\n",
      "4\n",
      "5\n",
      "Done\n"
     ]
    }
   ],
   "source": [
    "i=1\n",
    "while i<=5:\n",
    "    print(i)\n",
    "    i=i+1\n",
    "print(\"Done\")"
   ]
  },
  {
   "cell_type": "code",
   "execution_count": 20,
   "id": "c711c33a",
   "metadata": {},
   "outputs": [
    {
     "name": "stdout",
     "output_type": "stream",
     "text": [
      "*\n",
      "**\n",
      "***\n",
      "****\n",
      "*****\n",
      "Done\n"
     ]
    }
   ],
   "source": [
    "i=1\n",
    "while i<=5:\n",
    "    print('*'*i)\n",
    "    i=i+1\n",
    "print(\"Done\")"
   ]
  },
  {
   "cell_type": "code",
   "execution_count": 22,
   "id": "947e66ac",
   "metadata": {},
   "outputs": [
    {
     "name": "stdout",
     "output_type": "stream",
     "text": [
      ">hello :(\n",
      "hello 😌 \n"
     ]
    }
   ],
   "source": [
    "massg=input(\">\")\n",
    "words=massg.split(' ')\n",
    "emojis={\n",
    "    \":)\":\"😄\",\n",
    "    \":(\":\"😌\"\n",
    "}\n",
    "output=\"\"\n",
    "for word in words:\n",
    "    output+=emojis.get(word,word)+\" \"   # here word after comma is to use default value\n",
    "print(output)"
   ]
  },
  {
   "cell_type": "code",
   "execution_count": null,
   "id": "65bc82a4",
   "metadata": {},
   "outputs": [],
   "source": []
  }
 ],
 "metadata": {
  "kernelspec": {
   "display_name": "Python 3 (ipykernel)",
   "language": "python",
   "name": "python3"
  },
  "language_info": {
   "codemirror_mode": {
    "name": "ipython",
    "version": 3
   },
   "file_extension": ".py",
   "mimetype": "text/x-python",
   "name": "python",
   "nbconvert_exporter": "python",
   "pygments_lexer": "ipython3",
   "version": "3.9.7"
  }
 },
 "nbformat": 4,
 "nbformat_minor": 5
}
