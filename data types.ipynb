{
 "cells": [
  {
   "cell_type": "code",
   "execution_count": 2,
   "id": "d586a8bf",
   "metadata": {},
   "outputs": [
    {
     "name": "stdout",
     "output_type": "stream",
     "text": [
      "10\n",
      "4.9\n",
      "aryan\n",
      "True\n"
     ]
    }
   ],
   "source": [
    "price=10\n",
    "\n",
    "rating=4.9\n",
    "\n",
    "name='aryan'\n",
    "\n",
    "is_published=True\n",
    "\n",
    "print(price)\n",
    "\n",
    "print(rating)\n",
    "\n",
    "print(name)\n",
    "\n",
    "print(is_published)"
   ]
  },
  {
   "cell_type": "code",
   "execution_count": 3,
   "id": "76c8384d",
   "metadata": {},
   "outputs": [
    {
     "name": "stdout",
     "output_type": "stream",
     "text": [
      "what is your name  ? aryan\n",
      "Hi aryan\n"
     ]
    }
   ],
   "source": [
    "name=input('what is your name  ? ')\n",
    "\n",
    "print('Hi ' + name)"
   ]
  },
  {
   "cell_type": "code",
   "execution_count": 5,
   "id": "071f74ad",
   "metadata": {},
   "outputs": [
    {
     "name": "stdout",
     "output_type": "stream",
     "text": [
      "Birth year: 2001\n",
      "21\n",
      "<class 'str'>\n"
     ]
    }
   ],
   "source": [
    "birth_year=input('Birth year: ')\n",
    "\n",
    "# it will create error cause in python every input is in form of string even integer input also\n",
    "# age=2019-birth_year  \n",
    "\n",
    "# in order to solve this we will by using int()\n",
    "\n",
    "age=2022-int(birth_year)\n",
    "\n",
    "print(age)\n",
    "\n",
    "print(type(birth_year))"
   ]
  },
  {
   "cell_type": "code",
   "execution_count": 6,
   "id": "ed30092b",
   "metadata": {},
   "outputs": [
    {
     "name": "stdout",
     "output_type": "stream",
     "text": [
      "Weight (lbs): 160\n",
      "72.0\n"
     ]
    }
   ],
   "source": [
    "weight_lbs=input('Weight (lbs): ')\n",
    "weight_kg=int(weight_lbs)*0.45\n",
    "\n",
    "print(weight_kg)"
   ]
  },
  {
   "cell_type": "code",
   "execution_count": 8,
   "id": "3e5c61f5",
   "metadata": {},
   "outputs": [
    {
     "name": "stdout",
     "output_type": "stream",
     "text": [
      "P\n",
      "s\n",
      "r\n",
      "Pyt\n",
      "ython for Beginners\n",
      "Python for Beginners\n",
      "Python for Beginners\n"
     ]
    }
   ],
   "source": [
    "course='Python for Beginners'\n",
    "\n",
    "# use double quote for astrophe\n",
    "course1=\"python for beginner's\"\n",
    "\n",
    "\n",
    "#p\n",
    "print(course[0])\n",
    "\n",
    "# s\n",
    "print(course[-1])\n",
    "\n",
    "# r\n",
    "print(course[-2])\n",
    "\n",
    "# Pyt\n",
    "print(course[0:3])\n",
    "\n",
    "#ython for Beginners\n",
    "print(course[1:])\n",
    "\n",
    "#Python for Beginners\n",
    "print(course[:])\n",
    "\n",
    "\n",
    "another=course[:]\n",
    "\n",
    "print(another)"
   ]
  },
  {
   "cell_type": "code",
   "execution_count": 10,
   "id": "251b236a",
   "metadata": {},
   "outputs": [
    {
     "name": "stdout",
     "output_type": "stream",
     "text": [
      "Aryan [Basu] is coder\n",
      "Aryan  Basu is coder pro max\n"
     ]
    }
   ],
   "source": [
    "# formatted string\n",
    "\n",
    "\n",
    "first='Aryan'\n",
    "\n",
    "last='Basu'\n",
    "\n",
    "msg=f'{first} [{last}] is coder'\n",
    "massg=f'{first}  {last} is coder pro max'\n",
    "\n",
    "print(msg)\n",
    "\n",
    "\n",
    "print(massg)\n"
   ]
  },
  {
   "cell_type": "code",
   "execution_count": 11,
   "id": "6e96f329",
   "metadata": {},
   "outputs": [
    {
     "name": "stdout",
     "output_type": "stream",
     "text": [
      "19\n"
     ]
    }
   ],
   "source": [
    "course='Python for beginner'\n",
    "\n",
    "print(len(course))"
   ]
  },
  {
   "cell_type": "code",
   "execution_count": 13,
   "id": "1fed1f03",
   "metadata": {},
   "outputs": [
    {
     "name": "stdout",
     "output_type": "stream",
     "text": [
      "PYTHON FOR BEGINNER\n",
      "python for beginner\n",
      "0\n"
     ]
    }
   ],
   "source": [
    "course='Python for beginner'\n",
    "\n",
    "\n",
    "print(course.upper())\n",
    "\n",
    "print(course.lower())\n",
    "\n",
    "print(course.find('P'))\n"
   ]
  },
  {
   "cell_type": "code",
   "execution_count": 14,
   "id": "a2828d8d",
   "metadata": {},
   "outputs": [
    {
     "name": "stdout",
     "output_type": "stream",
     "text": [
      "Python for Absolute beginner\n"
     ]
    }
   ],
   "source": [
    "course='Python for beginner'\n",
    "\n",
    "\n",
    "print(course.replace('beginner','Absolute beginner'))"
   ]
  },
  {
   "cell_type": "code",
   "execution_count": 15,
   "id": "e1391655",
   "metadata": {},
   "outputs": [
    {
     "name": "stdout",
     "output_type": "stream",
     "text": [
      "Jython for beginner\n"
     ]
    }
   ],
   "source": [
    "course='Python for beginner'\n",
    "\n",
    "\n",
    "print(course.replace('P','J'))"
   ]
  },
  {
   "cell_type": "code",
   "execution_count": null,
   "id": "e527d247",
   "metadata": {},
   "outputs": [],
   "source": []
  }
 ],
 "metadata": {
  "kernelspec": {
   "display_name": "Python 3 (ipykernel)",
   "language": "python",
   "name": "python3"
  },
  "language_info": {
   "codemirror_mode": {
    "name": "ipython",
    "version": 3
   },
   "file_extension": ".py",
   "mimetype": "text/x-python",
   "name": "python",
   "nbconvert_exporter": "python",
   "pygments_lexer": "ipython3",
   "version": "3.9.7"
  }
 },
 "nbformat": 4,
 "nbformat_minor": 5
}
